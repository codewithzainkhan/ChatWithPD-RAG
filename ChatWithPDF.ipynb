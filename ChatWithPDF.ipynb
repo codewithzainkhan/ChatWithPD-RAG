{
  "nbformat": 4,
  "nbformat_minor": 0,
  "metadata": {
    "colab": {
      "provenance": [],
      "gpuType": "T4"
    },
    "kernelspec": {
      "name": "python3",
      "display_name": "Python 3"
    },
    "language_info": {
      "name": "python"
    },
    "accelerator": "GPU"
  },
  "cells": [
    {
      "cell_type": "code",
      "execution_count": null,
      "metadata": {
        "colab": {
          "base_uri": "https://localhost:8080/"
        },
        "id": "taAw-Z9iO5Lo",
        "outputId": "9f3e3762-abf0-483a-fb9d-9f674b28750a"
      },
      "outputs": [
        {
          "output_type": "stream",
          "name": "stdout",
          "text": [
            "Requirement already satisfied: transformers in /usr/local/lib/python3.10/dist-packages (4.44.2)\n",
            "Collecting langchain\n",
            "  Downloading langchain-0.2.16-py3-none-any.whl.metadata (7.1 kB)\n",
            "Requirement already satisfied: torch in /usr/local/lib/python3.10/dist-packages (2.4.0+cu121)\n",
            "Collecting faiss-cpu\n",
            "  Downloading faiss_cpu-1.8.0.post1-cp310-cp310-manylinux_2_17_x86_64.manylinux2014_x86_64.whl.metadata (3.7 kB)\n",
            "Requirement already satisfied: numpy in /usr/local/lib/python3.10/dist-packages (1.26.4)\n",
            "Requirement already satisfied: filelock in /usr/local/lib/python3.10/dist-packages (from transformers) (3.15.4)\n",
            "Requirement already satisfied: huggingface-hub<1.0,>=0.23.2 in /usr/local/lib/python3.10/dist-packages (from transformers) (0.24.6)\n",
            "Requirement already satisfied: packaging>=20.0 in /usr/local/lib/python3.10/dist-packages (from transformers) (24.1)\n",
            "Requirement already satisfied: pyyaml>=5.1 in /usr/local/lib/python3.10/dist-packages (from transformers) (6.0.2)\n",
            "Requirement already satisfied: regex!=2019.12.17 in /usr/local/lib/python3.10/dist-packages (from transformers) (2024.5.15)\n",
            "Requirement already satisfied: requests in /usr/local/lib/python3.10/dist-packages (from transformers) (2.32.3)\n",
            "Requirement already satisfied: safetensors>=0.4.1 in /usr/local/lib/python3.10/dist-packages (from transformers) (0.4.4)\n",
            "Requirement already satisfied: tokenizers<0.20,>=0.19 in /usr/local/lib/python3.10/dist-packages (from transformers) (0.19.1)\n",
            "Requirement already satisfied: tqdm>=4.27 in /usr/local/lib/python3.10/dist-packages (from transformers) (4.66.5)\n",
            "Requirement already satisfied: SQLAlchemy<3,>=1.4 in /usr/local/lib/python3.10/dist-packages (from langchain) (2.0.32)\n",
            "Requirement already satisfied: aiohttp<4.0.0,>=3.8.3 in /usr/local/lib/python3.10/dist-packages (from langchain) (3.10.5)\n",
            "Requirement already satisfied: async-timeout<5.0.0,>=4.0.0 in /usr/local/lib/python3.10/dist-packages (from langchain) (4.0.3)\n",
            "Collecting langchain-core<0.3.0,>=0.2.38 (from langchain)\n",
            "  Downloading langchain_core-0.2.38-py3-none-any.whl.metadata (6.2 kB)\n",
            "Collecting langchain-text-splitters<0.3.0,>=0.2.0 (from langchain)\n",
            "  Downloading langchain_text_splitters-0.2.4-py3-none-any.whl.metadata (2.3 kB)\n",
            "Collecting langsmith<0.2.0,>=0.1.17 (from langchain)\n",
            "  Downloading langsmith-0.1.116-py3-none-any.whl.metadata (13 kB)\n",
            "Requirement already satisfied: pydantic<3,>=1 in /usr/local/lib/python3.10/dist-packages (from langchain) (2.8.2)\n",
            "Collecting tenacity!=8.4.0,<9.0.0,>=8.1.0 (from langchain)\n",
            "  Downloading tenacity-8.5.0-py3-none-any.whl.metadata (1.2 kB)\n",
            "Requirement already satisfied: typing-extensions>=4.8.0 in /usr/local/lib/python3.10/dist-packages (from torch) (4.12.2)\n",
            "Requirement already satisfied: sympy in /usr/local/lib/python3.10/dist-packages (from torch) (1.13.2)\n",
            "Requirement already satisfied: networkx in /usr/local/lib/python3.10/dist-packages (from torch) (3.3)\n",
            "Requirement already satisfied: jinja2 in /usr/local/lib/python3.10/dist-packages (from torch) (3.1.4)\n",
            "Requirement already satisfied: fsspec in /usr/local/lib/python3.10/dist-packages (from torch) (2024.6.1)\n",
            "Requirement already satisfied: aiohappyeyeballs>=2.3.0 in /usr/local/lib/python3.10/dist-packages (from aiohttp<4.0.0,>=3.8.3->langchain) (2.4.0)\n",
            "Requirement already satisfied: aiosignal>=1.1.2 in /usr/local/lib/python3.10/dist-packages (from aiohttp<4.0.0,>=3.8.3->langchain) (1.3.1)\n",
            "Requirement already satisfied: attrs>=17.3.0 in /usr/local/lib/python3.10/dist-packages (from aiohttp<4.0.0,>=3.8.3->langchain) (24.2.0)\n",
            "Requirement already satisfied: frozenlist>=1.1.1 in /usr/local/lib/python3.10/dist-packages (from aiohttp<4.0.0,>=3.8.3->langchain) (1.4.1)\n",
            "Requirement already satisfied: multidict<7.0,>=4.5 in /usr/local/lib/python3.10/dist-packages (from aiohttp<4.0.0,>=3.8.3->langchain) (6.0.5)\n",
            "Requirement already satisfied: yarl<2.0,>=1.0 in /usr/local/lib/python3.10/dist-packages (from aiohttp<4.0.0,>=3.8.3->langchain) (1.9.4)\n",
            "Collecting jsonpatch<2.0,>=1.33 (from langchain-core<0.3.0,>=0.2.38->langchain)\n",
            "  Downloading jsonpatch-1.33-py2.py3-none-any.whl.metadata (3.0 kB)\n",
            "Collecting httpx<1,>=0.23.0 (from langsmith<0.2.0,>=0.1.17->langchain)\n",
            "  Downloading httpx-0.27.2-py3-none-any.whl.metadata (7.1 kB)\n",
            "Collecting orjson<4.0.0,>=3.9.14 (from langsmith<0.2.0,>=0.1.17->langchain)\n",
            "  Downloading orjson-3.10.7-cp310-cp310-manylinux_2_17_x86_64.manylinux2014_x86_64.whl.metadata (50 kB)\n",
            "\u001b[2K     \u001b[90m━━━━━━━━━━━━━━━━━━━━━━━━━━━━━━━━━━━━━━━━\u001b[0m \u001b[32m50.4/50.4 kB\u001b[0m \u001b[31m1.2 MB/s\u001b[0m eta \u001b[36m0:00:00\u001b[0m\n",
            "\u001b[?25hRequirement already satisfied: annotated-types>=0.4.0 in /usr/local/lib/python3.10/dist-packages (from pydantic<3,>=1->langchain) (0.7.0)\n",
            "Requirement already satisfied: pydantic-core==2.20.1 in /usr/local/lib/python3.10/dist-packages (from pydantic<3,>=1->langchain) (2.20.1)\n",
            "Requirement already satisfied: charset-normalizer<4,>=2 in /usr/local/lib/python3.10/dist-packages (from requests->transformers) (3.3.2)\n",
            "Requirement already satisfied: idna<4,>=2.5 in /usr/local/lib/python3.10/dist-packages (from requests->transformers) (3.8)\n",
            "Requirement already satisfied: urllib3<3,>=1.21.1 in /usr/local/lib/python3.10/dist-packages (from requests->transformers) (2.0.7)\n",
            "Requirement already satisfied: certifi>=2017.4.17 in /usr/local/lib/python3.10/dist-packages (from requests->transformers) (2024.8.30)\n",
            "Requirement already satisfied: greenlet!=0.4.17 in /usr/local/lib/python3.10/dist-packages (from SQLAlchemy<3,>=1.4->langchain) (3.0.3)\n",
            "Requirement already satisfied: MarkupSafe>=2.0 in /usr/local/lib/python3.10/dist-packages (from jinja2->torch) (2.1.5)\n",
            "Requirement already satisfied: mpmath<1.4,>=1.1.0 in /usr/local/lib/python3.10/dist-packages (from sympy->torch) (1.3.0)\n",
            "Requirement already satisfied: anyio in /usr/local/lib/python3.10/dist-packages (from httpx<1,>=0.23.0->langsmith<0.2.0,>=0.1.17->langchain) (3.7.1)\n",
            "Collecting httpcore==1.* (from httpx<1,>=0.23.0->langsmith<0.2.0,>=0.1.17->langchain)\n",
            "  Downloading httpcore-1.0.5-py3-none-any.whl.metadata (20 kB)\n",
            "Requirement already satisfied: sniffio in /usr/local/lib/python3.10/dist-packages (from httpx<1,>=0.23.0->langsmith<0.2.0,>=0.1.17->langchain) (1.3.1)\n",
            "Collecting h11<0.15,>=0.13 (from httpcore==1.*->httpx<1,>=0.23.0->langsmith<0.2.0,>=0.1.17->langchain)\n",
            "  Downloading h11-0.14.0-py3-none-any.whl.metadata (8.2 kB)\n",
            "Collecting jsonpointer>=1.9 (from jsonpatch<2.0,>=1.33->langchain-core<0.3.0,>=0.2.38->langchain)\n",
            "  Downloading jsonpointer-3.0.0-py2.py3-none-any.whl.metadata (2.3 kB)\n",
            "Requirement already satisfied: exceptiongroup in /usr/local/lib/python3.10/dist-packages (from anyio->httpx<1,>=0.23.0->langsmith<0.2.0,>=0.1.17->langchain) (1.2.2)\n",
            "Downloading langchain-0.2.16-py3-none-any.whl (1.0 MB)\n",
            "\u001b[2K   \u001b[90m━━━━━━━━━━━━━━━━━━━━━━━━━━━━━━━━━━━━━━━━\u001b[0m \u001b[32m1.0/1.0 MB\u001b[0m \u001b[31m24.0 MB/s\u001b[0m eta \u001b[36m0:00:00\u001b[0m\n",
            "\u001b[?25hDownloading faiss_cpu-1.8.0.post1-cp310-cp310-manylinux_2_17_x86_64.manylinux2014_x86_64.whl (27.0 MB)\n",
            "\u001b[2K   \u001b[90m━━━━━━━━━━━━━━━━━━━━━━━━━━━━━━━━━━━━━━━━\u001b[0m \u001b[32m27.0/27.0 MB\u001b[0m \u001b[31m20.0 MB/s\u001b[0m eta \u001b[36m0:00:00\u001b[0m\n",
            "\u001b[?25hDownloading langchain_core-0.2.38-py3-none-any.whl (396 kB)\n",
            "\u001b[2K   \u001b[90m━━━━━━━━━━━━━━━━━━━━━━━━━━━━━━━━━━━━━━━━\u001b[0m \u001b[32m396.4/396.4 kB\u001b[0m \u001b[31m32.6 MB/s\u001b[0m eta \u001b[36m0:00:00\u001b[0m\n",
            "\u001b[?25hDownloading langchain_text_splitters-0.2.4-py3-none-any.whl (25 kB)\n",
            "Downloading langsmith-0.1.116-py3-none-any.whl (290 kB)\n",
            "\u001b[2K   \u001b[90m━━━━━━━━━━━━━━━━━━━━━━━━━━━━━━━━━━━━━━━━\u001b[0m \u001b[32m290.4/290.4 kB\u001b[0m \u001b[31m19.5 MB/s\u001b[0m eta \u001b[36m0:00:00\u001b[0m\n",
            "\u001b[?25hDownloading tenacity-8.5.0-py3-none-any.whl (28 kB)\n",
            "Downloading httpx-0.27.2-py3-none-any.whl (76 kB)\n",
            "\u001b[2K   \u001b[90m━━━━━━━━━━━━━━━━━━━━━━━━━━━━━━━━━━━━━━━━\u001b[0m \u001b[32m76.4/76.4 kB\u001b[0m \u001b[31m7.3 MB/s\u001b[0m eta \u001b[36m0:00:00\u001b[0m\n",
            "\u001b[?25hDownloading httpcore-1.0.5-py3-none-any.whl (77 kB)\n",
            "\u001b[2K   \u001b[90m━━━━━━━━━━━━━━━━━━━━━━━━━━━━━━━━━━━━━━━━\u001b[0m \u001b[32m77.9/77.9 kB\u001b[0m \u001b[31m7.0 MB/s\u001b[0m eta \u001b[36m0:00:00\u001b[0m\n",
            "\u001b[?25hDownloading jsonpatch-1.33-py2.py3-none-any.whl (12 kB)\n",
            "Downloading orjson-3.10.7-cp310-cp310-manylinux_2_17_x86_64.manylinux2014_x86_64.whl (141 kB)\n",
            "\u001b[2K   \u001b[90m━━━━━━━━━━━━━━━━━━━━━━━━━━━━━━━━━━━━━━━━\u001b[0m \u001b[32m141.9/141.9 kB\u001b[0m \u001b[31m10.1 MB/s\u001b[0m eta \u001b[36m0:00:00\u001b[0m\n",
            "\u001b[?25hDownloading jsonpointer-3.0.0-py2.py3-none-any.whl (7.6 kB)\n",
            "Downloading h11-0.14.0-py3-none-any.whl (58 kB)\n",
            "\u001b[2K   \u001b[90m━━━━━━━━━━━━━━━━━━━━━━━━━━━━━━━━━━━━━━━━\u001b[0m \u001b[32m58.3/58.3 kB\u001b[0m \u001b[31m5.4 MB/s\u001b[0m eta \u001b[36m0:00:00\u001b[0m\n",
            "\u001b[?25hInstalling collected packages: tenacity, orjson, jsonpointer, h11, faiss-cpu, jsonpatch, httpcore, httpx, langsmith, langchain-core, langchain-text-splitters, langchain\n",
            "  Attempting uninstall: tenacity\n",
            "    Found existing installation: tenacity 9.0.0\n",
            "    Uninstalling tenacity-9.0.0:\n",
            "      Successfully uninstalled tenacity-9.0.0\n",
            "Successfully installed faiss-cpu-1.8.0.post1 h11-0.14.0 httpcore-1.0.5 httpx-0.27.2 jsonpatch-1.33 jsonpointer-3.0.0 langchain-0.2.16 langchain-core-0.2.38 langchain-text-splitters-0.2.4 langsmith-0.1.116 orjson-3.10.7 tenacity-8.5.0\n"
          ]
        }
      ],
      "source": [
        "# !pip install transformers langchain torch faiss-cpu numpy\n",
        "# !pip install sentence-transformers\n",
        "# !pip install pypdf\n"
      ]
    },
    {
      "cell_type": "code",
      "source": [
        "import os\n",
        "from urllib.request import urlretrieve\n",
        "import numpy as np\n",
        "from langchain_community.embeddings import HuggingFaceBgeEmbeddings\n",
        "from langchain_community.llms import HuggingFacePipeline\n",
        "from langchain_community.document_loaders import PyPDFLoader\n",
        "from langchain_community.document_loaders import PyPDFDirectoryLoader\n",
        "from langchain.text_splitter import RecursiveCharacterTextSplitter\n",
        "from langchain_community.vectorstores import FAISS\n",
        "from langchain.chains import RetrievalQA\n",
        "from langchain.prompts import PromptTemplate"
      ],
      "metadata": {
        "colab": {
          "base_uri": "https://localhost:8080/"
        },
        "id": "7SOF1L-7PAkR",
        "outputId": "c3c6ffaa-dc96-41a4-9467-7c103d74bafa"
      },
      "execution_count": null,
      "outputs": [
        {
          "output_type": "stream",
          "name": "stdout",
          "text": [
            "Collecting sentence-transformers\n",
            "  Downloading sentence_transformers-3.0.1-py3-none-any.whl.metadata (10 kB)\n",
            "Requirement already satisfied: transformers<5.0.0,>=4.34.0 in /usr/local/lib/python3.10/dist-packages (from sentence-transformers) (4.44.2)\n",
            "Requirement already satisfied: tqdm in /usr/local/lib/python3.10/dist-packages (from sentence-transformers) (4.66.5)\n",
            "Requirement already satisfied: torch>=1.11.0 in /usr/local/lib/python3.10/dist-packages (from sentence-transformers) (2.4.0+cu121)\n",
            "Requirement already satisfied: numpy in /usr/local/lib/python3.10/dist-packages (from sentence-transformers) (1.26.4)\n",
            "Requirement already satisfied: scikit-learn in /usr/local/lib/python3.10/dist-packages (from sentence-transformers) (1.3.2)\n",
            "Requirement already satisfied: scipy in /usr/local/lib/python3.10/dist-packages (from sentence-transformers) (1.13.1)\n",
            "Requirement already satisfied: huggingface-hub>=0.15.1 in /usr/local/lib/python3.10/dist-packages (from sentence-transformers) (0.24.6)\n",
            "Requirement already satisfied: Pillow in /usr/local/lib/python3.10/dist-packages (from sentence-transformers) (9.4.0)\n",
            "Requirement already satisfied: filelock in /usr/local/lib/python3.10/dist-packages (from huggingface-hub>=0.15.1->sentence-transformers) (3.15.4)\n",
            "Requirement already satisfied: fsspec>=2023.5.0 in /usr/local/lib/python3.10/dist-packages (from huggingface-hub>=0.15.1->sentence-transformers) (2024.6.1)\n",
            "Requirement already satisfied: packaging>=20.9 in /usr/local/lib/python3.10/dist-packages (from huggingface-hub>=0.15.1->sentence-transformers) (24.1)\n",
            "Requirement already satisfied: pyyaml>=5.1 in /usr/local/lib/python3.10/dist-packages (from huggingface-hub>=0.15.1->sentence-transformers) (6.0.2)\n",
            "Requirement already satisfied: requests in /usr/local/lib/python3.10/dist-packages (from huggingface-hub>=0.15.1->sentence-transformers) (2.32.3)\n",
            "Requirement already satisfied: typing-extensions>=3.7.4.3 in /usr/local/lib/python3.10/dist-packages (from huggingface-hub>=0.15.1->sentence-transformers) (4.12.2)\n",
            "Requirement already satisfied: sympy in /usr/local/lib/python3.10/dist-packages (from torch>=1.11.0->sentence-transformers) (1.13.2)\n",
            "Requirement already satisfied: networkx in /usr/local/lib/python3.10/dist-packages (from torch>=1.11.0->sentence-transformers) (3.3)\n",
            "Requirement already satisfied: jinja2 in /usr/local/lib/python3.10/dist-packages (from torch>=1.11.0->sentence-transformers) (3.1.4)\n",
            "Requirement already satisfied: regex!=2019.12.17 in /usr/local/lib/python3.10/dist-packages (from transformers<5.0.0,>=4.34.0->sentence-transformers) (2024.5.15)\n",
            "Requirement already satisfied: safetensors>=0.4.1 in /usr/local/lib/python3.10/dist-packages (from transformers<5.0.0,>=4.34.0->sentence-transformers) (0.4.4)\n",
            "Requirement already satisfied: tokenizers<0.20,>=0.19 in /usr/local/lib/python3.10/dist-packages (from transformers<5.0.0,>=4.34.0->sentence-transformers) (0.19.1)\n",
            "Requirement already satisfied: joblib>=1.1.1 in /usr/local/lib/python3.10/dist-packages (from scikit-learn->sentence-transformers) (1.4.2)\n",
            "Requirement already satisfied: threadpoolctl>=2.0.0 in /usr/local/lib/python3.10/dist-packages (from scikit-learn->sentence-transformers) (3.5.0)\n",
            "Requirement already satisfied: MarkupSafe>=2.0 in /usr/local/lib/python3.10/dist-packages (from jinja2->torch>=1.11.0->sentence-transformers) (2.1.5)\n",
            "Requirement already satisfied: charset-normalizer<4,>=2 in /usr/local/lib/python3.10/dist-packages (from requests->huggingface-hub>=0.15.1->sentence-transformers) (3.3.2)\n",
            "Requirement already satisfied: idna<4,>=2.5 in /usr/local/lib/python3.10/dist-packages (from requests->huggingface-hub>=0.15.1->sentence-transformers) (3.8)\n",
            "Requirement already satisfied: urllib3<3,>=1.21.1 in /usr/local/lib/python3.10/dist-packages (from requests->huggingface-hub>=0.15.1->sentence-transformers) (2.0.7)\n",
            "Requirement already satisfied: certifi>=2017.4.17 in /usr/local/lib/python3.10/dist-packages (from requests->huggingface-hub>=0.15.1->sentence-transformers) (2024.8.30)\n",
            "Requirement already satisfied: mpmath<1.4,>=1.1.0 in /usr/local/lib/python3.10/dist-packages (from sympy->torch>=1.11.0->sentence-transformers) (1.3.0)\n",
            "Downloading sentence_transformers-3.0.1-py3-none-any.whl (227 kB)\n",
            "\u001b[2K   \u001b[90m━━━━━━━━━━━━━━━━━━━━━━━━━━━━━━━━━━━━━━━━\u001b[0m \u001b[32m227.1/227.1 kB\u001b[0m \u001b[31m5.3 MB/s\u001b[0m eta \u001b[36m0:00:00\u001b[0m\n",
            "\u001b[?25hInstalling collected packages: sentence-transformers\n",
            "Successfully installed sentence-transformers-3.0.1\n"
          ]
        }
      ]
    },
    {
      "cell_type": "code",
      "source": [
        "os.makedirs(\"Pakistan\", exist_ok=True)\n",
        "files = [\n",
        "    \"https://info.publicintelligence.net/MCIA-PakistanHandbook.pdf\"\n",
        "]\n",
        "for url in files:\n",
        "    file_path = os.path.join(\"Pakistan\", url.rpartition(\"/\")[2])\n",
        "    urlretrieve(url, file_path)"
      ],
      "metadata": {
        "id": "MwSKCcoePUjx"
      },
      "execution_count": null,
      "outputs": []
    },
    {
      "cell_type": "code",
      "source": [
        "loader = PyPDFDirectoryLoader(\"./Pakistan/\")\n",
        "\n",
        "docs_before_split = loader.load()\n",
        "text_splitter = RecursiveCharacterTextSplitter(\n",
        "    chunk_size = 700,\n",
        "    chunk_overlap  = 50,\n",
        ")\n",
        "docs_after_split = text_splitter.split_documents(docs_before_split)\n",
        "\n",
        "docs_after_split[0]"
      ],
      "metadata": {
        "colab": {
          "base_uri": "https://localhost:8080/"
        },
        "id": "11aNGw_gPxQb",
        "outputId": "0babae04-599c-4e85-997a-8614e97636dd"
      },
      "execution_count": null,
      "outputs": [
        {
          "output_type": "execute_result",
          "data": {
            "text/plain": [
              "Document(metadata={'source': 'Pakistan/MCIA-PakistanHandbook.pdf', 'page': 0}, page_content='Pakistan Country Handbook\\nThis handbook provides basic reference information on Pakistan, including its \\ngeography, history, government, military forces, and communications and trans-portation networks. This information is intended to familiarize military per\\n s\\nonnel \\nwith local customs and area knowledge to assist them during their assignment to Pakistan. \\nThe Marine Corps Intel\\n l\\nigence Activity is the community coordinator for the \\nCountry Hand  b\\nook Program. This product reflects the coordinated U.S. Defense \\nIntelligence Community position on Pakistan .Dissemination and use of this publication is restricted to official military and')"
            ]
          },
          "metadata": {},
          "execution_count": 44
        }
      ]
    },
    {
      "cell_type": "code",
      "source": [
        "avg_doc_length = lambda docs: sum([len(doc.page_content) for doc in docs])//len(docs)\n",
        "avg_char_before_split = avg_doc_length(docs_before_split)\n",
        "avg_char_after_split = avg_doc_length(docs_after_split)\n",
        "\n",
        "print(f'Before split, there were {len(docs_before_split)} documents loaded, with average characters equal to {avg_char_before_split}.')\n",
        "print(f'After split, there were {len(docs_after_split)} documents (chunks), with average characters equal to {avg_char_after_split} (average chunk length).')"
      ],
      "metadata": {
        "colab": {
          "base_uri": "https://localhost:8080/"
        },
        "id": "NwX99P9wP0Nm",
        "outputId": "def10cde-e378-42bc-a2da-b78f4b122d82"
      },
      "execution_count": null,
      "outputs": [
        {
          "output_type": "stream",
          "name": "stdout",
          "text": [
            "Before split, there were 296 documents loaded, with average characters equal to 995.\n",
            "After split, there were 592 documents (chunks), with average characters equal to 508 (average chunk length).\n"
          ]
        }
      ]
    },
    {
      "cell_type": "code",
      "source": [
        "huggingface_embeddings = HuggingFaceBgeEmbeddings(\n",
        "    model_name=\"BAAI/bge-small-en-v1.5\",\n",
        "    model_kwargs={'device':'cpu'},\n",
        "    encode_kwargs={'normalize_embeddings': True}\n",
        ")"
      ],
      "metadata": {
        "id": "ff_8hywgQEpE"
      },
      "execution_count": null,
      "outputs": []
    },
    {
      "cell_type": "code",
      "source": [
        "sample_embedding = np.array(huggingface_embeddings.embed_query(docs_after_split[0].page_content))\n",
        "print(\"Sample embedding of a document chunk: \", sample_embedding)\n",
        "print(\"Size of the embedding: \", sample_embedding.shape)"
      ],
      "metadata": {
        "colab": {
          "base_uri": "https://localhost:8080/"
        },
        "id": "XAGQfQbUQzgj",
        "outputId": "9d368ee4-c0d3-4792-f9cf-61003df77667"
      },
      "execution_count": null,
      "outputs": [
        {
          "output_type": "stream",
          "name": "stdout",
          "text": [
            "Sample embedding of a document chunk:  [ 1.43675804e-02  2.05621347e-02 -5.27524343e-03 -4.33683023e-02\n",
            "  3.53559405e-02 -2.75353193e-02  5.71042635e-02  1.29494378e-02\n",
            " -1.00698784e-01  8.40507261e-03  6.34408370e-02 -2.81770136e-02\n",
            "  4.30057049e-02 -3.54474001e-02 -2.96685621e-02 -6.74374700e-02\n",
            "  1.09389389e-03 -3.30156907e-02  2.20131185e-02 -5.80267012e-02\n",
            "  1.70874391e-02  9.20885801e-03 -5.56742437e-02  8.73683989e-02\n",
            "  7.60229230e-02  6.52979463e-02  3.42497043e-02  2.41889507e-02\n",
            " -5.60614616e-02 -1.51428938e-01 -9.08630248e-03  1.31402249e-02\n",
            " -2.60648075e-02  9.43885371e-03 -4.88951579e-02  2.94795670e-02\n",
            "  3.01087815e-02  1.74482260e-02 -2.54820473e-02  8.53919890e-03\n",
            "  2.75449753e-02  3.21992822e-02  1.20137252e-01  5.66879213e-02\n",
            "  2.49452833e-02 -3.96076888e-02  1.22199440e-03  5.19754104e-02\n",
            "  1.58972181e-02 -4.60061431e-02  2.00814810e-02  2.85943393e-02\n",
            "  6.53216690e-02  2.12636758e-02 -1.71494354e-02 -2.31498387e-02\n",
            "  1.17936703e-04  1.65618472e-02  4.09649387e-02  7.70589942e-03\n",
            "  3.23458426e-02  6.96702674e-02 -2.12366506e-01  7.54472464e-02\n",
            "  1.43042218e-03  1.64928231e-02  2.64384449e-02 -2.01563518e-02\n",
            "  9.39105228e-02 -7.96070695e-02 -3.71749513e-03 -4.23369333e-02\n",
            "  1.59402180e-03 -3.16196075e-03 -4.87106144e-02  1.73282661e-02\n",
            " -8.82814638e-03  3.18492614e-02 -4.27755304e-02 -5.22628613e-02\n",
            " -1.59574430e-02  3.04887127e-02  1.88020226e-02  3.76738794e-03\n",
            "  7.59791769e-03 -3.95882651e-02  5.92108741e-02 -8.68503097e-03\n",
            "  4.08130698e-03 -2.38689091e-02  1.94165315e-02 -1.07344501e-02\n",
            "  2.21780427e-02  1.13314353e-02 -3.62050422e-02 -3.99341155e-03\n",
            "  2.87158471e-02 -2.87311971e-02 -8.82797241e-02  3.19260478e-01\n",
            " -3.25826705e-02 -3.55447456e-02 -9.59605444e-03  5.39798103e-02\n",
            "  2.24342905e-02  6.40478637e-03  2.96519063e-02 -2.42481735e-02\n",
            " -3.07976604e-02  5.33447079e-02 -2.23224740e-02 -1.36515433e-02\n",
            " -3.30871530e-02 -1.43971303e-02  5.14365397e-02 -2.74215452e-02\n",
            " -4.51164097e-02  8.19448531e-02  1.48363570e-02  2.35794876e-02\n",
            " -1.38336057e-02 -3.07844281e-02  2.60014366e-02  1.69226881e-02\n",
            "  5.43635674e-02  9.26537719e-03 -8.72460101e-03  2.78416425e-02\n",
            "  5.66822663e-02 -1.89791992e-02  4.19587493e-02 -1.28455153e-02\n",
            " -1.93311684e-02 -2.07309593e-02  6.72761425e-02  4.54467675e-03\n",
            " -7.81513844e-03 -1.49542373e-03  1.19696530e-02  1.31119359e-02\n",
            "  2.30385344e-02 -1.67338119e-03  4.33384664e-02 -8.07914063e-02\n",
            " -7.21244887e-02  1.19622536e-01 -3.13384794e-02  3.14267054e-02\n",
            "  3.29702906e-02  1.65180303e-02  6.41033659e-03  5.97696081e-02\n",
            " -1.21683404e-02 -7.43127661e-03  1.51299490e-02  3.03111244e-02\n",
            "  4.02756333e-02  2.93637142e-02 -1.10062473e-02 -1.67706702e-02\n",
            " -1.60418414e-02 -3.73571143e-02  7.48092216e-03  9.02821720e-02\n",
            " -4.73752478e-03 -1.00537896e-01 -1.03484079e-01 -3.19415927e-02\n",
            " -2.34742407e-02 -2.06519794e-02  9.48980637e-03  7.42273778e-02\n",
            "  2.97753643e-02  3.36313248e-02  3.61447595e-02  2.02638917e-02\n",
            "  9.19069443e-03  1.61478072e-02 -1.27226142e-02  1.29251881e-02\n",
            " -3.35366055e-02  5.06992564e-02  2.97080651e-02 -2.49950923e-02\n",
            " -2.41903849e-02  4.15862687e-02 -7.73311704e-02 -2.20469590e-02\n",
            "  3.71115543e-02  8.19197856e-03 -2.89193541e-02  4.79049645e-02\n",
            "  1.69985776e-03  5.22484221e-02  1.24951359e-02 -2.30233185e-02\n",
            " -4.78509627e-02 -2.10992862e-02  3.27646323e-02 -3.64367440e-02\n",
            " -4.61024754e-02  2.06698161e-02 -1.01223134e-01  4.74054478e-02\n",
            " -1.14958677e-02  3.55771184e-02  3.92382853e-02 -5.22693954e-02\n",
            " -6.03189096e-02 -2.47040228e-03 -2.68311705e-02  1.55127456e-03\n",
            " -2.15629209e-02 -7.81979635e-02 -2.95609720e-02 -4.66857664e-02\n",
            "  4.81643006e-02  3.74186406e-04 -5.02665229e-02  2.32613869e-02\n",
            " -1.04913749e-02 -6.95025921e-02  4.46566492e-02 -3.19006085e-01\n",
            " -4.34085280e-02  6.33090548e-03 -1.60664730e-02 -9.79566132e-04\n",
            " -8.77045467e-03  1.97908729e-02  2.54876949e-02  2.29613502e-02\n",
            "  3.52070890e-02  7.86278546e-02 -3.33442725e-02 -2.83394195e-02\n",
            " -2.76221130e-02 -7.53279403e-03  4.18885499e-02 -2.44662445e-02\n",
            "  2.64992230e-02 -3.76568362e-02  1.54981082e-02  3.63664329e-02\n",
            "  1.09703531e-02 -7.23621398e-02 -6.88295951e-03  3.04037835e-02\n",
            "  3.35870944e-02  4.26650569e-02 -1.07600838e-01 -1.30909448e-03\n",
            " -6.51675314e-02 -1.51691642e-02  8.29252973e-02 -2.84772888e-02\n",
            " -1.12651154e-01  3.70346941e-03  4.48539518e-02 -4.34291959e-02\n",
            "  2.96651032e-02 -5.12633612e-03 -7.84513913e-03 -8.57369567e-04\n",
            "  8.44049733e-03  4.42461744e-02 -3.31055745e-02  2.50390396e-02\n",
            " -4.97023622e-03 -5.64601570e-02  9.60579980e-03 -8.20131600e-03\n",
            " -1.85592175e-02 -4.54936773e-02  6.92511676e-03 -3.64054367e-02\n",
            "  1.12704830e-02 -6.97147772e-02 -1.39064714e-02 -5.33038080e-02\n",
            " -1.10199684e-02 -3.29573452e-02  7.38856476e-03  1.83946099e-02\n",
            "  2.36756373e-02  2.38107834e-02  6.15239330e-03  8.95261392e-02\n",
            " -8.41637421e-03 -2.22199708e-02  5.56239672e-02  1.13786217e-02\n",
            " -1.62996352e-02 -1.39392549e-02  6.40482977e-02  5.31418622e-03\n",
            " -3.93540896e-02  1.50262071e-02 -3.80493216e-02  4.50076610e-02\n",
            "  1.07159540e-02  5.58781028e-02 -5.97999506e-02  8.76219496e-02\n",
            "  6.60285703e-04  4.35564779e-02 -2.07777116e-02 -8.54067132e-03\n",
            " -2.88723633e-02  3.44203822e-02 -2.26980690e-02  7.81378970e-02\n",
            " -1.16490980e-03 -4.00441028e-02  3.89801268e-03 -2.84581427e-02\n",
            "  1.40771987e-02  2.53916085e-02 -1.01752514e-02 -2.77687848e-01\n",
            "  3.67312133e-02 -1.97461359e-02  2.39012539e-02  4.39843126e-02\n",
            " -3.79911698e-02  4.93320487e-02  4.12776863e-04 -7.50257596e-02\n",
            "  3.14681903e-02  7.30010048e-02 -1.55262118e-02 -2.60459795e-03\n",
            " -2.94244126e-03 -5.95298186e-02  2.26532537e-02  1.05497733e-01\n",
            " -3.23902676e-03 -1.90023370e-02 -5.46441898e-02 -3.52160493e-03\n",
            "  1.09812357e-02  1.31928712e-01  5.64247407e-02  1.83398474e-03\n",
            "  7.27217272e-03  3.73044312e-02 -4.46386561e-02 -8.12791660e-03\n",
            " -3.22618186e-02  7.94626623e-02  2.20886804e-02  1.41012240e-02\n",
            "  9.49152652e-03 -7.96466917e-02 -2.26032585e-02  2.58346312e-02\n",
            "  4.06503081e-02 -3.84730734e-02  1.50758913e-02 -4.32853624e-02\n",
            "  5.68930432e-03  2.13904586e-02 -9.18769911e-02  1.09264448e-01\n",
            " -3.42817092e-03 -6.04444444e-02 -7.43649378e-02  1.11958049e-02\n",
            " -2.64935475e-02 -2.57206298e-02 -5.44336922e-02 -4.16885763e-02\n",
            " -4.45484221e-02  3.67394323e-03  5.19108921e-02  5.10802194e-02\n",
            " -2.01801173e-02 -2.69373395e-02  7.93735776e-03  2.77017709e-02\n",
            " -5.20421304e-02  6.49062842e-02  4.17441465e-02  9.29301009e-02]\n",
            "Size of the embedding:  (384,)\n"
          ]
        }
      ]
    },
    {
      "cell_type": "code",
      "source": [
        "vectorstore = FAISS.from_documents(docs_after_split, huggingface_embeddings)\n"
      ],
      "metadata": {
        "id": "15418SsPQ9WV"
      },
      "execution_count": null,
      "outputs": []
    },
    {
      "cell_type": "code",
      "source": [
        "query = \"\"\"What is served after meal in Pakistan?\"\"\"\n",
        "relevant_documents = vectorstore.similarity_search(query)\n",
        "print(f'There are {len(relevant_documents)} documents retrieved which are relevant to the query. Display the first one:\\n')\n",
        "print(relevant_documents[0].page_content)"
      ],
      "metadata": {
        "colab": {
          "base_uri": "https://localhost:8080/"
        },
        "id": "afkqAPMWRAWm",
        "outputId": "614272e3-8385-4fd3-8fed-95278d9beb02"
      },
      "execution_count": null,
      "outputs": [
        {
          "output_type": "stream",
          "name": "stdout",
          "text": [
            "There are 4 documents retrieved which are relevant to the query. Display the first one:\n",
            "\n",
            "Eating\n",
            "al most all Pakistanis follow three Muslim dietary customs: they do not eat pork, they do not drink alcohol, and they fast during the month of Ramadan. During Ramadan, Muslims fast from sunup to sundown in order to learn discipline and self-control. \n",
            "i\n",
            "slam does \n",
            "not require the elderly, pregnant women, or children who have not reached puberty to fast.\n",
            "Pakistani cuisine is diverse with \n",
            "af\n",
            "ghan- ir\n",
            "anian or in\n",
            "dian influ-\n",
            "ences. Pakistanis sit on the floor and eat with the right hand. in \n",
            "P\n",
            "akistani culture, the left hand is often used for unsanitary pur-\n",
            "poses so it should not be raised to the mouth, dipped in a com-\n"
          ]
        }
      ]
    },
    {
      "cell_type": "code",
      "source": [
        "retriever = vectorstore.as_retriever(search_type=\"similarity\", search_kwargs={\"k\": 5})"
      ],
      "metadata": {
        "id": "YmWj5nT4Rwpc"
      },
      "execution_count": null,
      "outputs": []
    },
    {
      "cell_type": "code",
      "source": [
        "\n",
        "from langchain_community.llms import HuggingFaceHub\n",
        "\n",
        "HUGGINGFACEHUB_API_TOKEN = \">>>>>>>>>>>>>>>>>>>>>>\"\n",
        "\n",
        "hf = HuggingFaceHub(\n",
        "    repo_id=\"mistralai/Mistral-7B-v0.1\",\n",
        "    huggingfacehub_api_token=HUGGINGFACEHUB_API_TOKEN,\n",
        "    model_kwargs={\"temperature\": 0.1, \"max_length\": 500}\n",
        ")\n",
        "\n",
        "query = \"\"\"What is served after meal in Pakistan?\"\"\"\n",
        "response = hf.invoke(query)\n",
        "print(response)\n"
      ],
      "metadata": {
        "colab": {
          "base_uri": "https://localhost:8080/"
        },
        "id": "RDBQ0156R4VC",
        "outputId": "ef935883-0914-4f90-824a-37b5b2659355"
      },
      "execution_count": null,
      "outputs": [
        {
          "output_type": "stream",
          "name": "stdout",
          "text": [
            "What is served after meal in Pakistan?\n",
            "\n",
            "- After the meal, the host will serve you tea or coffee. If you are invited to a Pakistani home, you will be served tea or coffee after the meal.\n",
            "\n",
            "## What is the most popular food in Pakistan?\n",
            "\n",
            "The 10 Most Popular Pakistani Foods\n",
            "\n",
            "- Biryani. Biryani is a rice dish that is popular in Pakistan and India.\n",
            "- Nihari. Nihari is a stew made with\n"
          ]
        }
      ]
    }
  ]
}